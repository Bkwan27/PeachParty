{
  "cells": [
    {
      "cell_type": "markdown",
      "metadata": {
        "id": "view-in-github",
        "colab_type": "text"
      },
      "source": [
        "<a href=\"https://colab.research.google.com/github/Bkwan27/PeachParty/blob/main/Serial_Killers_Project.ipynb\" target=\"_parent\"><img src=\"https://colab.research.google.com/assets/colab-badge.svg\" alt=\"Open In Colab\"/></a>"
      ]
    },
    {
      "cell_type": "code",
      "execution_count": null,
      "metadata": {
        "id": "aADOxWQ2Jz1U"
      },
      "outputs": [],
      "source": [
        "import pandas as pd\n",
        "import numpy as np\n",
        "from matplotlib import pyplot as plt\n",
        "import seaborn as sns\n",
        "%matplotlib inline\n",
        "import re\n",
        "plt.style.use('tableau-colorblind10')"
      ]
    },
    {
      "cell_type": "code",
      "execution_count": null,
      "metadata": {
        "colab": {
          "base_uri": "https://localhost:8080/"
        },
        "id": "eHDShkRdJ8E6",
        "outputId": "7779e770-650f-4970-cb9d-a3439d9684d1"
      },
      "outputs": [
        {
          "name": "stdout",
          "output_type": "stream",
          "text": [
            "Looking in indexes: https://pypi.org/simple, https://us-python.pkg.dev/colab-wheels/public/simple/\n",
            "Requirement already satisfied: kaggle in /usr/local/lib/python3.10/dist-packages (1.5.13)\n",
            "Requirement already satisfied: six>=1.10 in /usr/local/lib/python3.10/dist-packages (from kaggle) (1.16.0)\n",
            "Requirement already satisfied: certifi in /usr/local/lib/python3.10/dist-packages (from kaggle) (2022.12.7)\n",
            "Requirement already satisfied: python-dateutil in /usr/local/lib/python3.10/dist-packages (from kaggle) (2.8.2)\n",
            "Requirement already satisfied: requests in /usr/local/lib/python3.10/dist-packages (from kaggle) (2.27.1)\n",
            "Requirement already satisfied: tqdm in /usr/local/lib/python3.10/dist-packages (from kaggle) (4.65.0)\n",
            "Requirement already satisfied: python-slugify in /usr/local/lib/python3.10/dist-packages (from kaggle) (8.0.1)\n",
            "Requirement already satisfied: urllib3 in /usr/local/lib/python3.10/dist-packages (from kaggle) (1.26.15)\n",
            "Requirement already satisfied: text-unidecode>=1.3 in /usr/local/lib/python3.10/dist-packages (from python-slugify->kaggle) (1.3)\n",
            "Requirement already satisfied: charset-normalizer~=2.0.0 in /usr/local/lib/python3.10/dist-packages (from requests->kaggle) (2.0.12)\n",
            "Requirement already satisfied: idna<4,>=2.5 in /usr/local/lib/python3.10/dist-packages (from requests->kaggle) (3.4)\n"
          ]
        }
      ],
      "source": [
        "! pip install kaggle\n",
        "! mkdir ~/.kaggle\n",
        "! cp kaggle.json ~/.kaggle/\n",
        "! chmod 600 ~/.kaggle/kaggle.json"
      ]
    },
    {
      "cell_type": "code",
      "execution_count": null,
      "metadata": {
        "colab": {
          "base_uri": "https://localhost:8080/"
        },
        "id": "o5HOOJLSLzkS",
        "outputId": "f0ff5880-66e3-45b1-ca63-a2ddbf2c09c2"
      },
      "outputs": [
        {
          "name": "stdout",
          "output_type": "stream",
          "text": [
            "Downloading homicide-reports.zip to /content\n",
            "100% 9.83M/9.83M [00:00<00:00, 16.0MB/s]\n",
            "100% 9.83M/9.83M [00:00<00:00, 11.3MB/s]\n"
          ]
        }
      ],
      "source": [
        "! kaggle datasets download murderaccountability/homicide-reports"
      ]
    },
    {
      "cell_type": "code",
      "execution_count": null,
      "metadata": {
        "colab": {
          "base_uri": "https://localhost:8080/"
        },
        "id": "ru4914HRL_DO",
        "outputId": "2a03c0e7-400d-4c85-a619-a8de29925893"
      },
      "outputs": [
        {
          "name": "stdout",
          "output_type": "stream",
          "text": [
            "Archive:  homicide-reports.zip\n",
            "  inflating: database.csv            \n"
          ]
        }
      ],
      "source": [
        "! unzip homicide-reports.zip\n"
      ]
    },
    {
      "cell_type": "code",
      "execution_count": null,
      "metadata": {
        "colab": {
          "base_uri": "https://localhost:8080/"
        },
        "id": "WrRohp3tMHQ_",
        "outputId": "de5f08b8-2758-48ef-d2e3-73e6e5dbd744"
      },
      "outputs": [
        {
          "name": "stderr",
          "output_type": "stream",
          "text": [
            "<ipython-input-5-14711dd142c8>:1: DtypeWarning: Columns (16) have mixed types. Specify dtype option on import or set low_memory=False.\n",
            "  df = pd.read_csv('database.csv')\n"
          ]
        }
      ],
      "source": [
        "df = pd.read_csv('database.csv')"
      ]
    },
    {
      "cell_type": "code",
      "execution_count": null,
      "metadata": {
        "colab": {
          "base_uri": "https://localhost:8080/"
        },
        "id": "2mGbnGG-MfHl",
        "outputId": "f4cda8d1-4587-4064-e733-18deba9369fc"
      },
      "outputs": [
        {
          "name": "stdout",
          "output_type": "stream",
          "text": [
            "<class 'pandas.core.frame.DataFrame'>\n",
            "RangeIndex: 638454 entries, 0 to 638453\n",
            "Data columns (total 24 columns):\n",
            " #   Column                 Non-Null Count   Dtype \n",
            "---  ------                 --------------   ----- \n",
            " 0   Record ID              638454 non-null  int64 \n",
            " 1   Agency Code            638454 non-null  object\n",
            " 2   Agency Name            638454 non-null  object\n",
            " 3   Agency Type            638454 non-null  object\n",
            " 4   City                   638454 non-null  object\n",
            " 5   State                  638454 non-null  object\n",
            " 6   Year                   638454 non-null  int64 \n",
            " 7   Month                  638454 non-null  object\n",
            " 8   Incident               638454 non-null  int64 \n",
            " 9   Crime Type             638454 non-null  object\n",
            " 10  Crime Solved           638454 non-null  object\n",
            " 11  Victim Sex             638454 non-null  object\n",
            " 12  Victim Age             638454 non-null  int64 \n",
            " 13  Victim Race            638454 non-null  object\n",
            " 14  Victim Ethnicity       638454 non-null  object\n",
            " 15  Perpetrator Sex        638454 non-null  object\n",
            " 16  Perpetrator Age        638454 non-null  object\n",
            " 17  Perpetrator Race       638454 non-null  object\n",
            " 18  Perpetrator Ethnicity  638454 non-null  object\n",
            " 19  Relationship           638454 non-null  object\n",
            " 20  Weapon                 638454 non-null  object\n",
            " 21  Victim Count           638454 non-null  int64 \n",
            " 22  Perpetrator Count      638454 non-null  int64 \n",
            " 23  Record Source          638454 non-null  object\n",
            "dtypes: int64(6), object(18)\n",
            "memory usage: 116.9+ MB\n"
          ]
        }
      ],
      "source": [
        "df.info()"
      ]
    },
    {
      "cell_type": "code",
      "execution_count": null,
      "metadata": {
        "colab": {
          "base_uri": "https://localhost:8080/"
        },
        "id": "beUfj0PCMlq0",
        "outputId": "7381fdb8-dd9a-432f-bb43-8ab0f1a02d39"
      },
      "outputs": [
        {
          "data": {
            "text/plain": [
              "Index(['Record ID', 'Agency Code', 'Agency Name', 'Agency Type', 'City',\n",
              "       'State', 'Year', 'Month', 'Incident', 'Crime Type', 'Crime Solved',\n",
              "       'Victim Sex', 'Victim Age', 'Victim Race', 'Victim Ethnicity',\n",
              "       'Perpetrator Sex', 'Perpetrator Age', 'Perpetrator Race',\n",
              "       'Perpetrator Ethnicity', 'Relationship', 'Weapon', 'Victim Count',\n",
              "       'Perpetrator Count', 'Record Source'],\n",
              "      dtype='object')"
            ]
          },
          "execution_count": 7,
          "metadata": {},
          "output_type": "execute_result"
        }
      ],
      "source": [
        "df.columns"
      ]
    },
    {
      "cell_type": "code",
      "execution_count": null,
      "metadata": {
        "id": "vIP5t62-NUjp"
      },
      "outputs": [],
      "source": [
        "df=df[(df['Crime Type']!='Manslaughter by Negligence')]"
      ]
    },
    {
      "cell_type": "code",
      "execution_count": null,
      "metadata": {
        "colab": {
          "base_uri": "https://localhost:8080/"
        },
        "id": "GSQhSy8CNBfr",
        "outputId": "897c14a9-777d-43ab-f5be-d96791e884bc"
      },
      "outputs": [
        {
          "name": "stdout",
          "output_type": "stream",
          "text": [
            "['Acquaintance' 'Unknown' 'Wife' 'Stranger' 'Girlfriend' 'Ex-Husband'\n",
            " 'Brother' 'Stepdaughter' 'Husband' 'Friend' 'Family' 'Neighbor' 'Father'\n",
            " 'In-Law' 'Son' 'Ex-Wife' 'Boyfriend' 'Mother' 'Sister'\n",
            " 'Common-Law Husband' 'Common-Law Wife' 'Stepfather' 'Stepson'\n",
            " 'Stepmother' 'Daughter' 'Boyfriend/Girlfriend' 'Employer' 'Employee']\n"
          ]
        }
      ],
      "source": [
        "print(df['Relationship'].unique())"
      ]
    },
    {
      "cell_type": "code",
      "execution_count": null,
      "metadata": {
        "id": "GoiYn6gCPmff"
      },
      "outputs": [],
      "source": [
        "m = {\n",
        "    \"Family/Relatives\": ['Wife','Girlfriend','Ex-Husband','Brother','Stepdaughter','Husband','Family','Father','In-Law','Son','Ex-Wife','Boyfriend','Mother','Sister','Common-Law Husband','Common-Law Wife','Stepfather','Stepson','Stepmother','Daughter'],\n",
        "    \"Acquaintances/Friends\": ['Acquaintance','Friend'],\n",
        "    \"Stranger/Unknown\": ['Unknown', 'Stranger'],\n",
        "    \"Etc.\": ['Employer','Employee','Neighbor']\n",
        "   }\n",
        "m2 = {v: k for k,vv in m.items() for v in vv}\n",
        "df['More Focused Relationship'] = df.Relationship.map(m2).astype('category')"
      ]
    },
    {
      "cell_type": "code",
      "execution_count": null,
      "metadata": {
        "colab": {
          "base_uri": "https://localhost:8080/"
        },
        "id": "PChXIYOJWKkv",
        "outputId": "5300c77d-e0b5-4584-bdac-28a4ad7dcbb2"
      },
      "outputs": [
        {
          "name": "stdout",
          "output_type": "stream",
          "text": [
            "count               627965\n",
            "unique                   4\n",
            "top       Stranger/Unknown\n",
            "freq                366846\n",
            "Name: More Focused Relationship, dtype: object\n",
            "<class 'pandas.core.series.Series'>\n",
            "Int64Index: 629338 entries, 0 to 638453\n",
            "Series name: More Focused Relationship\n",
            "Non-Null Count   Dtype   \n",
            "--------------   -----   \n",
            "627965 non-null  category\n",
            "dtypes: category(1)\n",
            "memory usage: 5.4 MB\n",
            "None\n",
            "['Acquaintances/Friends', 'Stranger/Unknown', 'Family/Relatives', 'Etc.', NaN]\n",
            "Categories (4, object): ['Acquaintances/Friends', 'Etc.', 'Family/Relatives', 'Stranger/Unknown']\n"
          ]
        }
      ],
      "source": [
        "print(df['More Focused Relationship'].describe())\n",
        "print(df['More Focused Relationship'].info())\n",
        "print(df['More Focused Relationship'].unique())"
      ]
    },
    {
      "cell_type": "code",
      "execution_count": null,
      "metadata": {
        "colab": {
          "base_uri": "https://localhost:8080/",
          "height": 787
        },
        "id": "Ic8nRKx7MxbJ",
        "outputId": "6aff9f8d-6a8e-4122-9059-b3f82f0ceebb"
      },
      "outputs": [
        {
          "name": "stdout",
          "output_type": "stream",
          "text": [
            "           Record ID           Year       Incident     Victim Age  \\\n",
            "count  629338.000000  629338.000000  629338.000000  629338.000000   \n",
            "mean   318936.332969    1995.784515      22.332880      35.171329   \n",
            "std    184213.482319       9.920545      89.842792      41.706121   \n",
            "min         1.000000    1980.000000       0.000000       0.000000   \n",
            "25%    159428.250000    1987.000000       1.000000      22.000000   \n",
            "50%    318897.500000    1995.000000       2.000000      30.000000   \n",
            "75%    478405.500000    2004.000000      10.000000      42.000000   \n",
            "max    638454.000000    2014.000000     999.000000     998.000000   \n",
            "\n",
            "        Victim Count  Perpetrator Count  \n",
            "count  629338.000000      629338.000000  \n",
            "mean        0.123937           0.186297  \n",
            "std         0.538365           0.586794  \n",
            "min         0.000000           0.000000  \n",
            "25%         0.000000           0.000000  \n",
            "50%         0.000000           0.000000  \n",
            "75%         0.000000           0.000000  \n",
            "max        10.000000          10.000000  \n"
          ]
        },
        {
          "data": {
            "text/plain": [
              "<Axes: >"
            ]
          },
          "execution_count": 12,
          "metadata": {},
          "output_type": "execute_result"
        },
        {
          "data": {
            "image/png": "[encoded data removed]",
            "text/plain": [
              "<Figure size 640x480 with 1 Axes>"
            ]
          },
          "metadata": {},
          "output_type": "display_data"
        }
      ],
      "source": [
        "print(df.describe())\n",
        "df.describe().plot()"
      ]
    },
    {
      "cell_type": "code",
      "execution_count": null,
      "metadata": {
        "colab": {
          "base_uri": "https://localhost:8080/"
        },
        "id": "UhgWdUkYNKtq",
        "outputId": "ac9802b8-6707-4238-cb09-b44a75297be1"
      },
      "outputs": [
        {
          "data": {
            "text/plain": [
              "pandas.core.frame.DataFrame"
            ]
          },
          "execution_count": 13,
          "metadata": {},
          "output_type": "execute_result"
        }
      ],
      "source": [
        "homicide_describe = df.describe()\n",
        "type(homicide_describe)"
      ]
    },
    {
      "cell_type": "code",
      "execution_count": null,
      "metadata": {
        "colab": {
          "base_uri": "https://localhost:8080/",
          "height": 300
        },
        "id": "qoB02IJuOS--",
        "outputId": "f899e54d-333c-4320-8e2b-9e16a56c74a4"
      },
      "outputs": [
        {
          "data": {
            "text/html": [
              "\n",
              "  <div id=\"df-9b45e3c0-8a16-415e-a76e-dde454ba6bf2\">\n",
              "    <div class=\"colab-df-container\">\n",
              "      <div>\n",
              "<style scoped>\n",
              "    .dataframe tbody tr th:only-of-type {\n",
              "        vertical-align: middle;\n",
              "    }\n",
              "\n",
              "    .dataframe tbody tr th {\n",
              "        vertical-align: top;\n",
              "    }\n",
              "\n",
              "    .dataframe thead th {\n",
              "        text-align: right;\n",
              "    }\n",
              "</style>\n",
              "<table border=\"1\" class=\"dataframe\">\n",
              "  <thead>\n",
              "    <tr style=\"text-align: right;\">\n",
              "      <th></th>\n",
              "      <th>Record ID</th>\n",
              "      <th>Year</th>\n",
              "      <th>Incident</th>\n",
              "      <th>Victim Age</th>\n",
              "      <th>Victim Count</th>\n",
              "      <th>Perpetrator Count</th>\n",
              "    </tr>\n",
              "  </thead>\n",
              "  <tbody>\n",
              "    <tr>\n",
              "      <th>count</th>\n",
              "      <td>629338.000000</td>\n",
              "      <td>629338.000000</td>\n",
              "      <td>629338.000000</td>\n",
              "      <td>629338.000000</td>\n",
              "      <td>629338.000000</td>\n",
              "      <td>629338.000000</td>\n",
              "    </tr>\n",
              "    <tr>\n",
              "      <th>mean</th>\n",
              "      <td>318936.332969</td>\n",
              "      <td>1995.784515</td>\n",
              "      <td>22.332880</td>\n",
              "      <td>35.171329</td>\n",
              "      <td>0.123937</td>\n",
              "      <td>0.186297</td>\n",
              "    </tr>\n",
              "    <tr>\n",
              "      <th>std</th>\n",
              "      <td>184213.482319</td>\n",
              "      <td>9.920545</td>\n",
              "      <td>89.842792</td>\n",
              "      <td>41.706121</td>\n",
              "      <td>0.538365</td>\n",
              "      <td>0.586794</td>\n",
              "    </tr>\n",
              "    <tr>\n",
              "      <th>min</th>\n",
              "      <td>1.000000</td>\n",
              "      <td>1980.000000</td>\n",
              "      <td>0.000000</td>\n",
              "      <td>0.000000</td>\n",
              "      <td>0.000000</td>\n",
              "      <td>0.000000</td>\n",
              "    </tr>\n",
              "    <tr>\n",
              "      <th>25%</th>\n",
              "      <td>159428.250000</td>\n",
              "      <td>1987.000000</td>\n",
              "      <td>1.000000</td>\n",
              "      <td>22.000000</td>\n",
              "      <td>0.000000</td>\n",
              "      <td>0.000000</td>\n",
              "    </tr>\n",
              "    <tr>\n",
              "      <th>50%</th>\n",
              "      <td>318897.500000</td>\n",
              "      <td>1995.000000</td>\n",
              "      <td>2.000000</td>\n",
              "      <td>30.000000</td>\n",
              "      <td>0.000000</td>\n",
              "      <td>0.000000</td>\n",
              "    </tr>\n",
              "    <tr>\n",
              "      <th>75%</th>\n",
              "      <td>478405.500000</td>\n",
              "      <td>2004.000000</td>\n",
              "      <td>10.000000</td>\n",
              "      <td>42.000000</td>\n",
              "      <td>0.000000</td>\n",
              "      <td>0.000000</td>\n",
              "    </tr>\n",
              "    <tr>\n",
              "      <th>max</th>\n",
              "      <td>638454.000000</td>\n",
              "      <td>2014.000000</td>\n",
              "      <td>999.000000</td>\n",
              "      <td>998.000000</td>\n",
              "      <td>10.000000</td>\n",
              "      <td>10.000000</td>\n",
              "    </tr>\n",
              "  </tbody>\n",
              "</table>\n",
              "</div>\n",
              "      <button class=\"colab-df-convert\" onclick=\"convertToInteractive('df-9b45e3c0-8a16-415e-a76e-dde454ba6bf2')\"\n",
              "              title=\"Convert this dataframe to an interactive table.\"\n",
              "              style=\"display:none;\">\n",
              "        \n",
              "  <svg xmlns=\"http://www.w3.org/2000/svg\" height=\"24px\"viewBox=\"0 0 24 24\"\n",
              "       width=\"24px\">\n",
              "    <path d=\"M0 0h24v24H0V0z\" fill=\"none\"/>\n",
              "    <path d=\"M18.56 5.44l.94 2.06.94-2.06 2.06-.94-2.06-.94-.94-2.06-.94 2.06-2.06.94zm-11 1L8.5 8.5l.94-2.06 2.06-.94-2.06-.94L8.5 2.5l-.94 2.06-2.06.94zm10 10l.94 2.06.94-2.06 2.06-.94-2.06-.94-.94-2.06-.94 2.06-2.06.94z\"/><path d=\"M17.41 7.96l-1.37-1.37c-.4-.4-.92-.59-1.43-.59-.52 0-1.04.2-1.43.59L10.3 9.45l-7.72 7.72c-.78.78-.78 2.05 0 2.83L4 21.41c.39.39.9.59 1.41.59.51 0 1.02-.2 1.41-.59l7.78-7.78 2.81-2.81c.8-.78.8-2.07 0-2.86zM5.41 20L4 18.59l7.72-7.72 1.47 1.35L5.41 20z\"/>\n",
              "  </svg>\n",
              "      </button>\n",
              "      \n",
              "  <style>\n",
              "    .colab-df-container {\n",
              "      display:flex;\n",
              "      flex-wrap:wrap;\n",
              "      gap: 12px;\n",
              "    }\n",
              "\n",
              "    .colab-df-convert {\n",
              "      background-color: #E8F0FE;\n",
              "      border: none;\n",
              "      border-radius: 50%;\n",
              "      cursor: pointer;\n",
              "      display: none;\n",
              "      fill: #1967D2;\n",
              "      height: 32px;\n",
              "      padding: 0 0 0 0;\n",
              "      width: 32px;\n",
              "    }\n",
              "\n",
              "    .colab-df-convert:hover {\n",
              "      background-color: #E2EBFA;\n",
              "      box-shadow: 0px 1px 2px rgba(60, 64, 67, 0.3), 0px 1px 3px 1px rgba(60, 64, 67, 0.15);\n",
              "      fill: #174EA6;\n",
              "    }\n",
              "\n",
              "    [theme=dark] .colab-df-convert {\n",
              "      background-color: #3B4455;\n",
              "      fill: #D2E3FC;\n",
              "    }\n",
              "\n",
              "    [theme=dark] .colab-df-convert:hover {\n",
              "      background-color: #434B5C;\n",
              "      box-shadow: 0px 1px 3px 1px rgba(0, 0, 0, 0.15);\n",
              "      filter: drop-shadow(0px 1px 2px rgba(0, 0, 0, 0.3));\n",
              "      fill: #FFFFFF;\n",
              "    }\n",
              "  </style>\n",
              "\n",
              "      <script>\n",
              "        const buttonEl =\n",
              "          document.querySelector('#df-9b45e3c0-8a16-415e-a76e-dde454ba6bf2 button.colab-df-convert');\n",
              "        buttonEl.style.display =\n",
              "          google.colab.kernel.accessAllowed ? 'block' : 'none';\n",
              "\n",
              "        async function convertToInteractive(key) {\n",
              "          const element = document.querySelector('#df-9b45e3c0-8a16-415e-a76e-dde454ba6bf2');\n",
              "          const dataTable =\n",
              "            await google.colab.kernel.invokeFunction('convertToInteractive',\n",
              "                                                     [key], {});\n",
              "          if (!dataTable) return;\n",
              "\n",
              "          const docLinkHtml = 'Like what you see? Visit the ' +\n",
              "            '<a target=\"_blank\" href=https://colab.research.google.com/notebooks/data_table.ipynb>data table notebook</a>'\n",
              "            + ' to learn more about interactive tables.';\n",
              "          element.innerHTML = '';\n",
              "          dataTable['output_type'] = 'display_data';\n",
              "          await google.colab.output.renderOutput(dataTable, element);\n",
              "          const docLink = document.createElement('div');\n",
              "          docLink.innerHTML = docLinkHtml;\n",
              "          element.appendChild(docLink);\n",
              "        }\n",
              "      </script>\n",
              "    </div>\n",
              "  </div>\n",
              "  "
            ],
            "text/plain": [
              "           Record ID           Year       Incident     Victim Age  \\\n",
              "count  629338.000000  629338.000000  629338.000000  629338.000000   \n",
              "mean   318936.332969    1995.784515      22.332880      35.171329   \n",
              "std    184213.482319       9.920545      89.842792      41.706121   \n",
              "min         1.000000    1980.000000       0.000000       0.000000   \n",
              "25%    159428.250000    1987.000000       1.000000      22.000000   \n",
              "50%    318897.500000    1995.000000       2.000000      30.000000   \n",
              "75%    478405.500000    2004.000000      10.000000      42.000000   \n",
              "max    638454.000000    2014.000000     999.000000     998.000000   \n",
              "\n",
              "        Victim Count  Perpetrator Count  \n",
              "count  629338.000000      629338.000000  \n",
              "mean        0.123937           0.186297  \n",
              "std         0.538365           0.586794  \n",
              "min         0.000000           0.000000  \n",
              "25%         0.000000           0.000000  \n",
              "50%         0.000000           0.000000  \n",
              "75%         0.000000           0.000000  \n",
              "max        10.000000          10.000000  "
            ]
          },
          "execution_count": 14,
          "metadata": {},
          "output_type": "execute_result"
        }
      ],
      "source": [
        "homicide_describe"
      ]
    },
    {
      "cell_type": "code",
      "execution_count": null,
      "metadata": {
        "colab": {
          "base_uri": "https://localhost:8080/",
          "height": 421
        },
        "id": "mxXwmdQBQYZx",
        "outputId": "e34239a5-38c3-4d48-cd38-e9403c23cda4"
      },
      "outputs": [
        {
          "data": {
            "text/html": [
              "\n",
              "  <div id=\"df-d7d9f216-d460-4960-9e19-1c8f09b93ba6\">\n",
              "    <div class=\"colab-df-container\">\n",
              "      <div>\n",
              "<style scoped>\n",
              "    .dataframe tbody tr th:only-of-type {\n",
              "        vertical-align: middle;\n",
              "    }\n",
              "\n",
              "    .dataframe tbody tr th {\n",
              "        vertical-align: top;\n",
              "    }\n",
              "\n",
              "    .dataframe thead th {\n",
              "        text-align: right;\n",
              "    }\n",
              "</style>\n",
              "<table border=\"1\" class=\"dataframe\">\n",
              "  <thead>\n",
              "    <tr style=\"text-align: right;\">\n",
              "      <th></th>\n",
              "      <th>Record ID</th>\n",
              "      <th>Agency Code</th>\n",
              "      <th>Agency Name</th>\n",
              "      <th>Agency Type</th>\n",
              "      <th>City</th>\n",
              "      <th>State</th>\n",
              "      <th>Year</th>\n",
              "      <th>Month</th>\n",
              "      <th>Incident</th>\n",
              "      <th>Crime Type</th>\n",
              "      <th>...</th>\n",
              "      <th>Perpetrator Sex</th>\n",
              "      <th>Perpetrator Age</th>\n",
              "      <th>Perpetrator Race</th>\n",
              "      <th>Perpetrator Ethnicity</th>\n",
              "      <th>Relationship</th>\n",
              "      <th>Weapon</th>\n",
              "      <th>Victim Count</th>\n",
              "      <th>Perpetrator Count</th>\n",
              "      <th>Record Source</th>\n",
              "      <th>More Focused Relationship</th>\n",
              "    </tr>\n",
              "  </thead>\n",
              "  <tbody>\n",
              "    <tr>\n",
              "      <th>0</th>\n",
              "      <td>1</td>\n",
              "      <td>AK00101</td>\n",
              "      <td>Anchorage</td>\n",
              "      <td>Municipal Police</td>\n",
              "      <td>Anchorage</td>\n",
              "      <td>Alaska</td>\n",
              "      <td>1980</td>\n",
              "      <td>January</td>\n",
              "      <td>1</td>\n",
              "      <td>Murder or Manslaughter</td>\n",
              "      <td>...</td>\n",
              "      <td>Male</td>\n",
              "      <td>15</td>\n",
              "      <td>Native American/Alaska Native</td>\n",
              "      <td>Unknown</td>\n",
              "      <td>Acquaintance</td>\n",
              "      <td>Blunt Object</td>\n",
              "      <td>0</td>\n",
              "      <td>0</td>\n",
              "      <td>FBI</td>\n",
              "      <td>Acquaintances/Friends</td>\n",
              "    </tr>\n",
              "    <tr>\n",
              "      <th>1</th>\n",
              "      <td>2</td>\n",
              "      <td>AK00101</td>\n",
              "      <td>Anchorage</td>\n",
              "      <td>Municipal Police</td>\n",
              "      <td>Anchorage</td>\n",
              "      <td>Alaska</td>\n",
              "      <td>1980</td>\n",
              "      <td>March</td>\n",
              "      <td>1</td>\n",
              "      <td>Murder or Manslaughter</td>\n",
              "      <td>...</td>\n",
              "      <td>Male</td>\n",
              "      <td>42</td>\n",
              "      <td>White</td>\n",
              "      <td>Unknown</td>\n",
              "      <td>Acquaintance</td>\n",
              "      <td>Strangulation</td>\n",
              "      <td>0</td>\n",
              "      <td>0</td>\n",
              "      <td>FBI</td>\n",
              "      <td>Acquaintances/Friends</td>\n",
              "    </tr>\n",
              "    <tr>\n",
              "      <th>2</th>\n",
              "      <td>3</td>\n",
              "      <td>AK00101</td>\n",
              "      <td>Anchorage</td>\n",
              "      <td>Municipal Police</td>\n",
              "      <td>Anchorage</td>\n",
              "      <td>Alaska</td>\n",
              "      <td>1980</td>\n",
              "      <td>March</td>\n",
              "      <td>2</td>\n",
              "      <td>Murder or Manslaughter</td>\n",
              "      <td>...</td>\n",
              "      <td>Unknown</td>\n",
              "      <td>0</td>\n",
              "      <td>Unknown</td>\n",
              "      <td>Unknown</td>\n",
              "      <td>Unknown</td>\n",
              "      <td>Unknown</td>\n",
              "      <td>0</td>\n",
              "      <td>0</td>\n",
              "      <td>FBI</td>\n",
              "      <td>Stranger/Unknown</td>\n",
              "    </tr>\n",
              "    <tr>\n",
              "      <th>3</th>\n",
              "      <td>4</td>\n",
              "      <td>AK00101</td>\n",
              "      <td>Anchorage</td>\n",
              "      <td>Municipal Police</td>\n",
              "      <td>Anchorage</td>\n",
              "      <td>Alaska</td>\n",
              "      <td>1980</td>\n",
              "      <td>April</td>\n",
              "      <td>1</td>\n",
              "      <td>Murder or Manslaughter</td>\n",
              "      <td>...</td>\n",
              "      <td>Male</td>\n",
              "      <td>42</td>\n",
              "      <td>White</td>\n",
              "      <td>Unknown</td>\n",
              "      <td>Acquaintance</td>\n",
              "      <td>Strangulation</td>\n",
              "      <td>0</td>\n",
              "      <td>0</td>\n",
              "      <td>FBI</td>\n",
              "      <td>Acquaintances/Friends</td>\n",
              "    </tr>\n",
              "    <tr>\n",
              "      <th>4</th>\n",
              "      <td>5</td>\n",
              "      <td>AK00101</td>\n",
              "      <td>Anchorage</td>\n",
              "      <td>Municipal Police</td>\n",
              "      <td>Anchorage</td>\n",
              "      <td>Alaska</td>\n",
              "      <td>1980</td>\n",
              "      <td>April</td>\n",
              "      <td>2</td>\n",
              "      <td>Murder or Manslaughter</td>\n",
              "      <td>...</td>\n",
              "      <td>Unknown</td>\n",
              "      <td>0</td>\n",
              "      <td>Unknown</td>\n",
              "      <td>Unknown</td>\n",
              "      <td>Unknown</td>\n",
              "      <td>Unknown</td>\n",
              "      <td>0</td>\n",
              "      <td>1</td>\n",
              "      <td>FBI</td>\n",
              "      <td>Stranger/Unknown</td>\n",
              "    </tr>\n",
              "  </tbody>\n",
              "</table>\n",
              "<p>5 rows × 25 columns</p>\n",
              "</div>\n",
              "      <button class=\"colab-df-convert\" onclick=\"convertToInteractive('df-d7d9f216-d460-4960-9e19-1c8f09b93ba6')\"\n",
              "              title=\"Convert this dataframe to an interactive table.\"\n",
              "              style=\"display:none;\">\n",
              "        \n",
              "  <svg xmlns=\"http://www.w3.org/2000/svg\" height=\"24px\"viewBox=\"0 0 24 24\"\n",
              "       width=\"24px\">\n",
              "    <path d=\"M0 0h24v24H0V0z\" fill=\"none\"/>\n",
              "    <path d=\"M18.56 5.44l.94 2.06.94-2.06 2.06-.94-2.06-.94-.94-2.06-.94 2.06-2.06.94zm-11 1L8.5 8.5l.94-2.06 2.06-.94-2.06-.94L8.5 2.5l-.94 2.06-2.06.94zm10 10l.94 2.06.94-2.06 2.06-.94-2.06-.94-.94-2.06-.94 2.06-2.06.94z\"/><path d=\"M17.41 7.96l-1.37-1.37c-.4-.4-.92-.59-1.43-.59-.52 0-1.04.2-1.43.59L10.3 9.45l-7.72 7.72c-.78.78-.78 2.05 0 2.83L4 21.41c.39.39.9.59 1.41.59.51 0 1.02-.2 1.41-.59l7.78-7.78 2.81-2.81c.8-.78.8-2.07 0-2.86zM5.41 20L4 18.59l7.72-7.72 1.47 1.35L5.41 20z\"/>\n",
              "  </svg>\n",
              "      </button>\n",
              "      \n",
              "  <style>\n",
              "    .colab-df-container {\n",
              "      display:flex;\n",
              "      flex-wrap:wrap;\n",
              "      gap: 12px;\n",
              "    }\n",
              "\n",
              "    .colab-df-convert {\n",
              "      background-color: #E8F0FE;\n",
              "      border: none;\n",
              "      border-radius: 50%;\n",
              "      cursor: pointer;\n",
              "      display: none;\n",
              "      fill: #1967D2;\n",
              "      height: 32px;\n",
              "      padding: 0 0 0 0;\n",
              "      width: 32px;\n",
              "    }\n",
              "\n",
              "    .colab-df-convert:hover {\n",
              "      background-color: #E2EBFA;\n",
              "      box-shadow: 0px 1px 2px rgba(60, 64, 67, 0.3), 0px 1px 3px 1px rgba(60, 64, 67, 0.15);\n",
              "      fill: #174EA6;\n",
              "    }\n",
              "\n",
              "    [theme=dark] .colab-df-convert {\n",
              "      background-color: #3B4455;\n",
              "      fill: #D2E3FC;\n",
              "    }\n",
              "\n",
              "    [theme=dark] .colab-df-convert:hover {\n",
              "      background-color: #434B5C;\n",
              "      box-shadow: 0px 1px 3px 1px rgba(0, 0, 0, 0.15);\n",
              "      filter: drop-shadow(0px 1px 2px rgba(0, 0, 0, 0.3));\n",
              "      fill: #FFFFFF;\n",
              "    }\n",
              "  </style>\n",
              "\n",
              "      <script>\n",
              "        const buttonEl =\n",
              "          document.querySelector('#df-d7d9f216-d460-4960-9e19-1c8f09b93ba6 button.colab-df-convert');\n",
              "        buttonEl.style.display =\n",
              "          google.colab.kernel.accessAllowed ? 'block' : 'none';\n",
              "\n",
              "        async function convertToInteractive(key) {\n",
              "          const element = document.querySelector('#df-d7d9f216-d460-4960-9e19-1c8f09b93ba6');\n",
              "          const dataTable =\n",
              "            await google.colab.kernel.invokeFunction('convertToInteractive',\n",
              "                                                     [key], {});\n",
              "          if (!dataTable) return;\n",
              "\n",
              "          const docLinkHtml = 'Like what you see? Visit the ' +\n",
              "            '<a target=\"_blank\" href=https://colab.research.google.com/notebooks/data_table.ipynb>data table notebook</a>'\n",
              "            + ' to learn more about interactive tables.';\n",
              "          element.innerHTML = '';\n",
              "          dataTable['output_type'] = 'display_data';\n",
              "          await google.colab.output.renderOutput(dataTable, element);\n",
              "          const docLink = document.createElement('div');\n",
              "          docLink.innerHTML = docLinkHtml;\n",
              "          element.appendChild(docLink);\n",
              "        }\n",
              "      </script>\n",
              "    </div>\n",
              "  </div>\n",
              "  "
            ],
            "text/plain": [
              "   Record ID Agency Code Agency Name       Agency Type       City   State  \\\n",
              "0          1     AK00101   Anchorage  Municipal Police  Anchorage  Alaska   \n",
              "1          2     AK00101   Anchorage  Municipal Police  Anchorage  Alaska   \n",
              "2          3     AK00101   Anchorage  Municipal Police  Anchorage  Alaska   \n",
              "3          4     AK00101   Anchorage  Municipal Police  Anchorage  Alaska   \n",
              "4          5     AK00101   Anchorage  Municipal Police  Anchorage  Alaska   \n",
              "\n",
              "   Year    Month  Incident              Crime Type  ... Perpetrator Sex  \\\n",
              "0  1980  January         1  Murder or Manslaughter  ...            Male   \n",
              "1  1980    March         1  Murder or Manslaughter  ...            Male   \n",
              "2  1980    March         2  Murder or Manslaughter  ...         Unknown   \n",
              "3  1980    April         1  Murder or Manslaughter  ...            Male   \n",
              "4  1980    April         2  Murder or Manslaughter  ...         Unknown   \n",
              "\n",
              "  Perpetrator Age               Perpetrator Race Perpetrator Ethnicity  \\\n",
              "0              15  Native American/Alaska Native               Unknown   \n",
              "1              42                          White               Unknown   \n",
              "2               0                        Unknown               Unknown   \n",
              "3              42                          White               Unknown   \n",
              "4               0                        Unknown               Unknown   \n",
              "\n",
              "   Relationship         Weapon Victim Count Perpetrator Count Record Source  \\\n",
              "0  Acquaintance   Blunt Object            0                 0           FBI   \n",
              "1  Acquaintance  Strangulation            0                 0           FBI   \n",
              "2       Unknown        Unknown            0                 0           FBI   \n",
              "3  Acquaintance  Strangulation            0                 0           FBI   \n",
              "4       Unknown        Unknown            0                 1           FBI   \n",
              "\n",
              "  More Focused Relationship  \n",
              "0     Acquaintances/Friends  \n",
              "1     Acquaintances/Friends  \n",
              "2          Stranger/Unknown  \n",
              "3     Acquaintances/Friends  \n",
              "4          Stranger/Unknown  \n",
              "\n",
              "[5 rows x 25 columns]"
            ]
          },
          "execution_count": 15,
          "metadata": {},
          "output_type": "execute_result"
        }
      ],
      "source": [
        "df.head()"
      ]
    },
    {
      "cell_type": "code",
      "execution_count": null,
      "metadata": {
        "colab": {
          "base_uri": "https://localhost:8080/"
        },
        "id": "KJn-Mo6ZU1Pr",
        "outputId": "9cda6bf1-5e52-47d6-9f14-a03938006b24"
      },
      "outputs": [
        {
          "data": {
            "text/plain": [
              "0         1\n",
              "1         1\n",
              "2         2\n",
              "3         1\n",
              "4         2\n",
              "         ..\n",
              "638449    1\n",
              "638450    1\n",
              "638451    1\n",
              "638452    1\n",
              "638453    1\n",
              "Name: Incident, Length: 629338, dtype: int64"
            ]
          },
          "execution_count": 16,
          "metadata": {},
          "output_type": "execute_result"
        }
      ],
      "source": [
        "df['Victim Count'].astype('float64')\n",
        "df['Perpetrator Count'].astype('float64')\n",
        "df['Victim Count'].astype(int)\n",
        "df['Perpetrator Count'].astype(int)\n",
        "df['Incident'].astype(int)"
      ]
    },
    {
      "cell_type": "code",
      "execution_count": null,
      "metadata": {
        "colab": {
          "background_save": true
        },
        "id": "ALG4ABieGY6O",
        "outputId": "2faba9a1-cbe8-4126-f0c9-6433992ce4aa"
      },
      "outputs": [
        {
          "data": {
            "text/plain": [
              "<matplotlib.legend.Legend at 0x7fde1e05a9b0>"
            ]
          },
          "execution_count": 17,
          "metadata": {},
          "output_type": "execute_result"
        },
        {
          "data": {
            "image/png": "[encoded data removed]",
            "text/plain": [
              "<Figure size 640x480 with 1 Axes>"
            ]
          },
          "metadata": {},
          "output_type": "display_data"
        }
      ],
      "source": [
        "sns.kdeplot(\n",
        "  data=df,\n",
        "  x='Perpetrator Count',\n",
        "  common_norm=False,\n",
        "  common_grid=True,\n",
        "  cumulative=True,\n",
        "  color='orange'\n",
        ")\n",
        "\n",
        "sns.kdeplot(\n",
        "  data=df,\n",
        "  x=\"Victim Count\",\n",
        "  common_norm=False,\n",
        "  common_grid=True,\n",
        "  cumulative=True,\n",
        ")\n",
        "plt.legend(labels=['Perpetrator Count', 'Victim Count'])\n"
      ]
    },
    {
      "cell_type": "code",
      "execution_count": null,
      "metadata": {
        "colab": {
          "background_save": true
        },
        "id": "L1IqZFlVOl0p",
        "outputId": "58f8d3ca-ba22-4328-8fb3-6f3313fd1c6f"
      },
      "outputs": [
        {
          "data": {
            "text/plain": [
              "[<matplotlib.lines.Line2D at 0x7fde1df49300>]"
            ]
          },
          "execution_count": 18,
          "metadata": {},
          "output_type": "execute_result"
        },
        {
          "data": {
            "image/png": "[encoded data removed]",
            "text/plain": [
              "<Figure size 640x480 with 1 Axes>"
            ]
          },
          "metadata": {},
          "output_type": "display_data"
        }
      ],
      "source": [
        "plt.plot('Victim Count', 'Perpetrator Count',data=df)"
      ]
    },
    {
      "cell_type": "code",
      "execution_count": null,
      "metadata": {
        "id": "XeMhf2ZOUOdH"
      },
      "outputs": [],
      "source": [
        "sns.scatterplot(data=df, x=\"Victim Count\", y=\"Perpetrator Count\")\n",
        "sns.rugplot(data=df, x=\"Victim Count\", y=\"Perpetrator Count\")\n",
        "plt.xlabel(\"Victim Count\")\n",
        "plt.ylabel(\"Perpetrator Count\")\n",
        "plt.title(\"Victim Count vs. Perpetrator Count\")\n",
        "#general trend: as victim perpetrator count decreases, victim count increases"
      ]
    },
    {
      "cell_type": "code",
      "execution_count": null,
      "metadata": {
        "id": "VM_oP5LfFXNR"
      },
      "outputs": [],
      "source": [
        "df.Incident.sum()"
      ]
    },
    {
      "cell_type": "code",
      "execution_count": null,
      "metadata": {
        "id": "MW5lkgNUR3RW"
      },
      "outputs": [],
      "source": [
        "import math\n",
        "df2 = pd.DataFrame()\n",
        "df2[\"Relationship\"] = df['Relationship'].unique()\n",
        "df2[\"All Perpetrators\"] = df.groupby('Relationship')['Incident']\n",
        "labels = [x[0] for x in df2[\"All Perpetrators\"]]\n",
        "counts = [np.array(x[1]*(100/14054930)).sum() for x in df2[\"All Perpetrators\"]]\n",
        "print(counts)"
      ]
    },
    {
      "cell_type": "code",
      "execution_count": null,
      "metadata": {
        "id": "Dp-0_dJRDls9"
      },
      "outputs": [],
      "source": [
        "plt.figure(figsize=(15,8))\n",
        "sns.barplot(x=counts, y=labels, errorbar=None)\n",
        "plt.title(\"Incident Percentages vs. Relationship\")\n",
        "plt.ylabel(\"Relationship\")\n",
        "plt.xlabel(\"Incident Percentages (%)\")"
      ]
    },
    {
      "cell_type": "code",
      "execution_count": null,
      "metadata": {
        "id": "RKgOoNAkAA-b"
      },
      "outputs": [],
      "source": [
        "df['Year Month'] = df['Year'].astype(str) + ' ' + df['Month']"
      ]
    },
    {
      "cell_type": "code",
      "execution_count": null,
      "metadata": {
        "id": "mqa0oO3V7Yek"
      },
      "outputs": [],
      "source": [
        "perpByYear = df.groupby('Year Month')['Perpetrator Count'].sum()\n",
        "victimByYear = df.groupby('Year Month')['Victim Count'].sum()\n",
        "plt.figure(figsize=(20,8))\n",
        "perpByYear.plot(label = 'Perpetrator Count per Month')\n",
        "victimByYear.plot(label= 'Victim Count per Month', c = 'orange')\n",
        "plt.legend(loc='best')\n",
        "plt.title('Perpetrator and Victim Counts by Month')\n",
        "plt.show()"
      ]
    },
    {
      "cell_type": "code",
      "execution_count": null,
      "metadata": {
        "id": "82x59jEZeRj5"
      },
      "outputs": [],
      "source": [
        "print(perpByYear.at[\"March 1990\"])\n",
        "print(victimByYear.at[\"March 1990\"])\n",
        "print(perpByYear.at[\"April 1995\"])\n",
        "print(victimByYear.at[\"April 1995\"])"
      ]
    }
  ],
  "metadata": {
    "colab": {
      "provenance": [],
      "include_colab_link": true
    },
    "kernelspec": {
      "display_name": "Python 3",
      "name": "python3"
    },
    "language_info": {
      "name": "python"
    }
  },
  "nbformat": 4,
  "nbformat_minor": 0
}